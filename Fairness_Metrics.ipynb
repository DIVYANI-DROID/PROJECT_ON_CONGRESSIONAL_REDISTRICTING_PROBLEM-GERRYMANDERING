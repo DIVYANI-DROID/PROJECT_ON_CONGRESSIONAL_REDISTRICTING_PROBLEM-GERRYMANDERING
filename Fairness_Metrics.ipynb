{
 "cells": [
  {
   "cell_type": "markdown",
   "id": "willing-institute",
   "metadata": {},
   "source": [
    "### Reference: https://github.com/JacksonJohar/FairnessMetrics497"
   ]
  },
  {
   "cell_type": "code",
   "execution_count": 1,
   "id": "sixth-candidate",
   "metadata": {},
   "outputs": [],
   "source": [
    "import numpy as np\n",
    "import statistics as stat\n",
    "import math\n",
    "import statistics\n",
    "\n",
    "def efficiency_gap(data):\n",
    "    \n",
    "    wasteD = sum(data['d_wasted'])\n",
    "    wasteR = sum(data['r_wasted'])\n",
    "    \n",
    "    return  (wasteD - wasteR) / len(data)\n",
    "\n",
    "\n",
    "def partisan_bias(data):    \n",
    "    total_votes_d = sum(data['d_votes'])\n",
    "    total_votes_r = sum(data['r_votes'])\n",
    "    \n",
    "    shift = (total_votes_d - total_votes_r) / (2 * len(data))\n",
    "    \n",
    "    data['d_wasted'] = data['d_wasted'] - shift\n",
    "    data['r_wasted'] = data['r_wasted'] - shift\n",
    "    \n",
    "    return efficiency_gap(data)\n",
    "\n",
    "def mean_median_difference(data):\n",
    "\n",
    "    total_votes_d = sum(data['r_votes'])  # The value will not change even if we consider d_votes\n",
    "    average = total_votes_d / len(data)\n",
    "    med = statistics.median(data['r_votes'])\n",
    "\n",
    "    return (med - average) / len(data)\n",
    "\n",
    "def fairness_metric(data) : \n",
    "  \n",
    "    eg = efficiency_gap(data)\n",
    "    pb = partisan_bias(data)\n",
    "    mmd = mean_median_difference(data)\n",
    "    value = -0.2231 * ((eg / 0.0861) + (pb / 0.1210) + (mmd / 0.0293)) ** 2\n",
    "  \n",
    "    return math.exp(value)"
   ]
  }
 ],
 "metadata": {
  "kernelspec": {
   "display_name": "Python 3",
   "language": "python",
   "name": "python3"
  },
  "language_info": {
   "codemirror_mode": {
    "name": "ipython",
    "version": 3
   },
   "file_extension": ".py",
   "mimetype": "text/x-python",
   "name": "python",
   "nbconvert_exporter": "python",
   "pygments_lexer": "ipython3",
   "version": "3.8.5"
  }
 },
 "nbformat": 4,
 "nbformat_minor": 5
}
